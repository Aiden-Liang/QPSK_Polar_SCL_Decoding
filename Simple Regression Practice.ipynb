{
 "cells": [
  {
   "cell_type": "markdown",
   "metadata": {},
   "source": [
    "# Simple Regression Practice"
   ]
  },
  {
   "cell_type": "code",
   "execution_count": 1,
   "metadata": {},
   "outputs": [],
   "source": [
    "import numpy as np                          \n",
    "import matplotlib.pyplot as plt\n",
    "import pandas as pd"
   ]
  },
  {
   "cell_type": "code",
   "execution_count": 2,
   "metadata": {},
   "outputs": [],
   "source": [
    "# import data\n",
    "# data_set = pd.read_csv(\"DNN_dataset.csv\")\n",
    "# data_set = np.array(data_set)\n",
    "# print(\"[TravelTimes],[StudyingTimes],[Scores(Max=100)]\")\n",
    "# print(data_set)"
   ]
  },
  {
   "cell_type": "markdown",
   "metadata": {},
   "source": [
    "# Initial inputs/outputs"
   ]
  },
  {
   "cell_type": "code",
   "execution_count": 3,
   "metadata": {},
   "outputs": [
    {
     "name": "stdout",
     "output_type": "stream",
     "text": [
      "[TravelHours , StudyingHours , bias]\n",
      "# Original_x:\n",
      " [[ 0.         16.         -0.38918416]\n",
      " [ 1.         15.         -0.10806209]\n",
      " [ 2.         14.         -0.1200487 ]\n",
      " [ 3.         13.         -0.05051891]\n",
      " [ 4.         12.         -1.07894299]\n",
      " [ 5.         11.         -0.20249964]\n",
      " [ 6.         10.          1.08208789]\n",
      " [ 7.          9.          0.07822894]\n",
      " [ 8.          8.          0.2229348 ]\n",
      " [ 9.          7.         -0.15833669]\n",
      " [10.          6.         -0.76028554]\n",
      " [11.          5.          1.09920743]\n",
      " [12.          4.          1.08818547]\n",
      " [13.          3.          0.99526065]\n",
      " [14.          2.          0.07423199]\n",
      " [15.          1.          0.35972951]\n",
      " [16.          0.         -1.60501811]]\n",
      "---------------------------------------------------------------------\n",
      "[Scores(Max=100)]\n",
      "# Original_y:\n",
      " [[95]\n",
      " [90]\n",
      " [85]\n",
      " [80]\n",
      " [75]\n",
      " [70]\n",
      " [65]\n",
      " [60]\n",
      " [55]\n",
      " [50]\n",
      " [45]\n",
      " [40]\n",
      " [35]\n",
      " [30]\n",
      " [25]\n",
      " [20]\n",
      " [15]]\n",
      "---------------------------------------------------------------------\n"
     ]
    }
   ],
   "source": [
    "num_data = 17\n",
    "\n",
    "# 24 - 8(sleeping hours) = 16 hours can be used\n",
    "# data_set : [Travelhours , Studyinghours , Scores]\n",
    "data_set = np.array(([0,16,95],[1,15,90],[2,14,85],[3,13,80],[4,12,75],[5,11,70],[6,10,65],[7,9,60],[8,8,55],[9,7,50],\n",
    "                    [10,6,45],[11,5,40],[12,4,35],[13,3,30],[14,2,25],[15,1,20],[16,0,15]))\n",
    "\n",
    "# x = np.random.randint(1, 10, size = (num_data, 2))\n",
    "x = np.zeros((num_data,2))\n",
    "x = data_set[:,0:2]\n",
    "\n",
    "bias = np.random.randn(num_data, 1)\n",
    "# bias = bias/np.amax(bias, axis = 0)\n",
    "\n",
    "# merge_x[:,0] = TravelHours , merge_x[:,1] = StudyingHours\n",
    "merge_x = np.hstack((x, bias))                       # merge x and bias [3*num_data]\n",
    "\n",
    "# y = np.random.randint(0,100, size = (num_data, 1))\n",
    "y = np.zeros((num_data,1))\n",
    "y = data_set[:,2]\n",
    "y = y.reshape((num_data,1))\n",
    "\n",
    "print(\"[TravelHours , StudyingHours , bias]\")\n",
    "print('# Original_x:\\n', merge_x)\n",
    "print('---------------------------------------------------------------------')\n",
    "print(\"[Scores(Max=100)]\")\n",
    "print('# Original_y:\\n', y)\n",
    "print('---------------------------------------------------------------------')"
   ]
  },
  {
   "cell_type": "markdown",
   "metadata": {},
   "source": [
    "# Pre-Processing"
   ]
  },
  {
   "cell_type": "code",
   "execution_count": 4,
   "metadata": {},
   "outputs": [
    {
     "name": "stdout",
     "output_type": "stream",
     "text": [
      "# Scaling_training x:\n",
      " [[ 0.          1.         -0.35405889]\n",
      " [ 0.0625      0.9375     -0.0983091 ]\n",
      " [ 0.125       0.875      -0.10921387]\n",
      " [ 0.1875      0.8125     -0.0459594 ]\n",
      " [ 0.25        0.75       -0.9815645 ]\n",
      " [ 0.3125      0.6875     -0.18422331]\n",
      " [ 0.375       0.625       0.98442556]\n",
      " [ 0.4375      0.5625      0.0711685 ]\n",
      " [ 0.5         0.5         0.20281413]\n",
      " [ 0.5625      0.4375     -0.14404624]]\n",
      "---------------------------------------------------------------------\n",
      "# Scaling_training y:\n",
      " [[0.95]\n",
      " [0.9 ]\n",
      " [0.85]\n",
      " [0.8 ]\n",
      " [0.75]\n",
      " [0.7 ]\n",
      " [0.65]\n",
      " [0.6 ]\n",
      " [0.55]\n",
      " [0.5 ]]\n",
      "---------------------------------------------------------------------\n",
      "# Scaling_valid x:\n",
      " [[ 0.625       0.375      -0.69166703]\n",
      " [ 0.6875      0.3125      1.        ]\n",
      " [ 0.75        0.25        0.98997281]\n",
      " [ 0.8125      0.1875      0.90543479]\n",
      " [ 0.875       0.125       0.06753229]\n",
      " [ 0.9375      0.0625      0.32726263]\n",
      " [ 1.          0.         -1.46015944]]\n",
      "---------------------------------------------------------------------\n",
      "# Scaling_valid y:\n",
      " [[0.45]\n",
      " [0.4 ]\n",
      " [0.35]\n",
      " [0.3 ]\n",
      " [0.25]\n",
      " [0.2 ]\n",
      " [0.15]]\n",
      "---------------------------------------------------------------------\n"
     ]
    }
   ],
   "source": [
    "# Pre-processing\n",
    "# for n in range(num_data):                  # if sleeping > studying, grade range in 50-70 scores\n",
    "    # if (x[n,0] > x[n,1]):\n",
    "        # y[n,0] = np.random.randint(50,70)\n",
    "    # else:                                   # if sleeping < studying, grade range in 80-100 scores\n",
    "        # y[n,0] = np.random.randint(80,100)\n",
    "\n",
    "\n",
    "# Normalization :\n",
    "# scaling units (range in 0 < x,y < 1)\n",
    "x = merge_x/np.amax(merge_x, axis = 0)\n",
    "x_train = x[0:10 , :]                        # 60 % training\n",
    "y = y/100\n",
    "y_train = y[0:10 , :]\n",
    "print('# Scaling_training x:\\n', x_train)\n",
    "print('---------------------------------------------------------------------')\n",
    "print('# Scaling_training y:\\n', y_train)\n",
    "print('---------------------------------------------------------------------')\n",
    "\n",
    "x_valid = x[10:num_data , :]                 # 40 % training\n",
    "y_valid = y[10:num_data , :]\n",
    "print('# Scaling_valid x:\\n', x_valid)\n",
    "print('---------------------------------------------------------------------')\n",
    "print('# Scaling_valid y:\\n', y_valid)\n",
    "print('---------------------------------------------------------------------')\n",
    "\n",
    "# x_test = np.random.randint(1, 10, size = (num_data, 2))\n",
    "# bias_tset = np.random.randn(num_data,1)\n",
    "# merge_x_test = np.hstack((x,bias_tset))   \n",
    "# x_test = merge_x_test/np.amax(merge_x_test, axis = 0)\n",
    "# x_test = x_test[0:900,:]\n",
    "# print('# scaling test x:\\n', x_test)\n"
   ]
  },
  {
   "cell_type": "markdown",
   "metadata": {},
   "source": [
    "# Define a Neural Network"
   ]
  },
  {
   "cell_type": "code",
   "execution_count": 5,
   "metadata": {},
   "outputs": [],
   "source": [
    "class NeuralNetwork(object):\n",
    "    def __init__(self):     # initial property\n",
    "        \n",
    "        self.alpha = 0.01    # learning rate\n",
    "        \n",
    "        # dimesion\n",
    "        self.inputSize = 3\n",
    "        self.hiddenSize = num_data     \n",
    "        self.outputSize = 1\n",
    "        \n",
    "        # weights (Gaussion Random)\n",
    "        self.w1 = np.random.randn(self.inputSize, self.hiddenSize)   # from input to hidden layer [3x4]\n",
    "        self.w2 = np.random.randn(self.hiddenSize, self.outputSize)  # from hidden to output layer [4x1]\n",
    "        \n",
    "    def feed_forware(self, x_train):\n",
    "        self.z = np.dot(x_train, self.w1)              # forware pass matrix dot\n",
    "        self.sz = self.sigmoid(self.z)          # activation function between input and hidden\n",
    "        self.v_sz = np.vstack((self.sz, bias.T))\n",
    "        self.z2 = np.dot(self.v_sz, self.w2)       \n",
    "        output = self.sigmoid(self.z2)            # activation function between hidden and output\n",
    "        output = np.delete(output, -1, axis=0)\n",
    "        return output\n",
    "        \n",
    "    def sigmoid(self, s):    # define sigmoid function\n",
    "        return 1/(1 + np.exp(-s))\n",
    "    \n",
    "    def backware_pass(self, x_train, y_train, output):\n",
    "        self.output_error = (y_train - output)          # error in output\n",
    "        self.output_delta = self.output_error * self.deriv_sigmoid(output)\n",
    "        self.sz_error = np.dot(self.output_delta, self.w2.T)      # from output back to hidden layer [1x3]\n",
    "        self.sz_delta = self.sz_error * self.deriv_sigmoid(self.sz)\n",
    "        \n",
    "        # weight update\n",
    "        self.w1 += self.alpha * np.dot(x_train.T, self.sz_delta)    # adjusting first weight set {input to hidden}\n",
    "        self.w2 += self.alpha * np.dot(self.sz.T, self.output_delta)   # adjusting second weight set {hidden to output}\n",
    "        self.last_w1 = self.w1     # storage the last weight\n",
    "        self.last_w2 = self.w2     \n",
    "    \n",
    "    def deriv_sigmoid(self, ds):   # define sigmoid function derivative\n",
    "        return ds * (1-ds)\n",
    "    \n",
    "    def train(self, x_train, y_train):\n",
    "        fp_output = self.feed_forware(x_train)\n",
    "        self.backware_pass(x_train, y_train, fp_output)"
   ]
  },
  {
   "cell_type": "markdown",
   "metadata": {},
   "source": [
    "# Training Neural Network and Plot"
   ]
  },
  {
   "cell_type": "code",
   "execution_count": 6,
   "metadata": {
    "scrolled": false
   },
   "outputs": [
    {
     "name": "stdout",
     "output_type": "stream",
     "text": [
      "# Every_epoch_Loss: \n",
      "Loss(%): 0.05157033572098452\n",
      "Loss(%): 0.01346290449743052\n",
      "Loss(%): 0.00773041167802382\n",
      "Loss(%): 0.004435795325724953\n",
      "Loss(%): 0.0026294602933092607\n",
      "Loss(%): 0.0016622909292852938\n",
      "Loss(%): 0.001148528679130473\n",
      "Loss(%): 0.0008753335618638631\n",
      "Loss(%): 0.0007292140782650909\n",
      "Loss(%): 0.0006503603936035827\n",
      "# Input_x_train:\n",
      " [[ 0.          1.         -0.35405889]\n",
      " [ 0.0625      0.9375     -0.0983091 ]\n",
      " [ 0.125       0.875      -0.10921387]\n",
      " [ 0.1875      0.8125     -0.0459594 ]\n",
      " [ 0.25        0.75       -0.9815645 ]\n",
      " [ 0.3125      0.6875     -0.18422331]\n",
      " [ 0.375       0.625       0.98442556]\n",
      " [ 0.4375      0.5625      0.0711685 ]\n",
      " [ 0.5         0.5         0.20281413]\n",
      " [ 0.5625      0.4375     -0.14404624]]\n",
      "# Idea_y_train:\n",
      "[[0.95]\n",
      " [0.9 ]\n",
      " [0.85]\n",
      " [0.8 ]\n",
      " [0.75]\n",
      " [0.7 ]\n",
      " [0.65]\n",
      " [0.6 ]\n",
      " [0.55]\n",
      " [0.5 ]]\n",
      "----------------------------------------\n",
      "# Loss array:\n",
      " [0.05157034 0.0134629  0.00773041 0.0044358  0.00262946 0.00166229\n",
      " 0.00114853 0.00087533 0.00072921 0.00065036]\n"
     ]
    },
    {
     "data": {
      "image/png": "[encoded data removed]",
      "text/plain": [
       "<Figure size 432x288 with 1 Axes>"
      ]
     },
     "metadata": {
      "needs_background": "light"
     },
     "output_type": "display_data"
    }
   ],
   "source": [
    "NN = NeuralNetwork()    # build a neural network objection\n",
    "epoch = 10000            # epoch 1000 times to train\n",
    "loss_array = np.zeros((1,10))\n",
    "epoch_plot = np.array([1000,2000,3000,4000,5000,6000,7000,8000,9000,10000])\n",
    "\n",
    "print(\"# Every_epoch_Loss: \")\n",
    "k = 0\n",
    "for i in range(epoch):  \n",
    "    if (i % 1000 == 0):     # every epoch 100 times print each \"Loss\"\n",
    "        print(\"Loss(%): \" + str(np.mean(np.square(y_train - NN.feed_forware(x_train)))))   # Mean square error，MSE \n",
    "        loss_array[0,k] = np.mean(np.square(y_train - NN.feed_forware(x_train)))    \n",
    "        k = k + 1\n",
    "    NN.train(x_train, y_train)\n",
    "\n",
    "print(\"# Input_x_train:\\n \" + str(x_train))\n",
    "print(\"# Idea_y_train:\\n\" + str(y_train))\n",
    "print(\"----------------------------------------\")\n",
    "print(\"# Loss array:\\n \" + str(loss_array[0,:]))\n",
    "\n",
    "# plot\n",
    "plt.xlabel('Epoch')\n",
    "plt.ylabel('Loss')\n",
    "plt.plot(epoch_plot, loss_array[0,:])\n",
    "plt.show()"
   ]
  },
  {
   "cell_type": "markdown",
   "metadata": {},
   "source": [
    "# Valid the Model"
   ]
  },
  {
   "cell_type": "code",
   "execution_count": 7,
   "metadata": {
    "scrolled": true
   },
   "outputs": [
    {
     "name": "stdout",
     "output_type": "stream",
     "text": [
      "# Last_tran_w1:\n",
      " [[-1.12344139  0.43952904 -0.63484049  1.65429213  1.07371414 -0.04824745\n",
      "  -0.96189989 -0.79918909 -1.34072449  1.36921762  0.86913466 -0.2234287\n",
      "  -1.39056699 -0.74918943 -0.08836212 -1.33484828  1.24638504]\n",
      " [-1.65870647 -1.40014652 -0.06221821 -0.4310726  -1.14461581 -0.38747869\n",
      "   0.46999474  0.39171219  0.98086385 -1.61732179  0.78244124 -0.75403516\n",
      "  -1.0898958  -0.50383332  0.05581466  1.12615258 -0.96242696]\n",
      " [ 0.07750679  1.24933616  0.37453878  1.49263975  0.44997674 -1.07896509\n",
      "  -0.9280632   1.27915616  1.02784504  0.64983508  0.02771734  0.68558943\n",
      "  -1.05806722  1.29356896  1.98540768  0.40430817 -0.41357551]]\n",
      "# Last_tran_w2:\n",
      " [[ 0.83664895]\n",
      " [-1.71558974]\n",
      " [-0.14891622]\n",
      " [-1.46243986]\n",
      " [-0.96682134]\n",
      " [-0.83114849]\n",
      " [-0.14589838]\n",
      " [ 1.07498794]\n",
      " [ 1.65174067]\n",
      " [-0.90800265]\n",
      " [ 0.71716546]\n",
      " [ 1.3519435 ]\n",
      " [ 1.03719514]\n",
      " [-0.37500461]\n",
      " [ 0.33822766]\n",
      " [ 0.87125386]\n",
      " [ 0.20431025]]\n",
      "-------------------------------------------\n",
      "# valid_Loss: 0.0035066046174543593\n",
      "-------------------------------------------\n",
      "# Valid Deviation (%):\n",
      " [[ 58.4690422 ]\n",
      " [ 59.733342  ]\n",
      " [ 65.92977162]\n",
      " [ 71.57801677]\n",
      " [ 64.75467777]\n",
      " [ 78.30963505]\n",
      " [187.41729274]]\n"
     ]
    }
   ],
   "source": [
    "print('# Last_tran_w1:\\n', NN.last_w1)\n",
    "print('# Last_tran_w2:\\n', NN.last_w2)\n",
    "valid_A1 = np.dot(x_valid, NN.last_w1)\n",
    "valid_G1 = NN.sigmoid(valid_A1)\n",
    "valid_A2 = np.dot(valid_G1, NN.last_w2)\n",
    "valid_G2 = NN.sigmoid(valid_A2)\n",
    "print(\"-------------------------------------------\")\n",
    "print(\"# valid_Loss: \" + str(np.mean(np.square( y_valid - NN.feed_forware(x_valid)))))\n",
    "print(\"-------------------------------------------\")\n",
    "deviation = np.abs(y_valid-valid_G2/y_valid)*100\n",
    "print('# Valid Deviation (%):\\n', deviation)   # deviation [num_data x3]\n",
    "\n",
    "\n",
    "each_valid_set = np.array([0, 1, 2, 3, 4, 5, 6])\n"
   ]
  },
  {
   "cell_type": "code",
   "execution_count": 8,
   "metadata": {},
   "outputs": [
    {
     "data": {
      "image/png": "[encoded data removed]",
      "text/plain": [
       "<Figure size 432x288 with 1 Axes>"
      ]
     },
     "metadata": {
      "needs_background": "light"
     },
     "output_type": "display_data"
    },
    {
     "data": {
      "image/png": "[encoded data removed]",
      "text/plain": [
       "<Figure size 432x288 with 1 Axes>"
      ]
     },
     "metadata": {
      "needs_background": "light"
     },
     "output_type": "display_data"
    }
   ],
   "source": [
    "# plot\n",
    "plt.xlabel('Each data')\n",
    "plt.ylabel('Scores')\n",
    "plt.plot(each_valid_set, 100*y_valid,'-o', label = \"Actual\")\n",
    "plt.plot(each_valid_set, 100*valid_G2, '-^',label = \"Prediction\")\n",
    "plt.legend()\n",
    "plt.show()\n",
    "\n",
    "plt.xlabel('Each data')\n",
    "plt.ylabel('Valid Deviation (%)')\n",
    "plt.plot(each_valid_set, deviation)\n",
    "plt.show()\n"
   ]
  }
 ],
 "metadata": {
  "kernelspec": {
   "display_name": "Python 3",
   "language": "python",
   "name": "python3"
  },
  "language_info": {
   "codemirror_mode": {
    "name": "ipython",
    "version": 3
   },
   "file_extension": ".py",
   "mimetype": "text/x-python",
   "name": "python",
   "nbconvert_exporter": "python",
   "pygments_lexer": "ipython3",
   "version": "3.8.3"
  }
 },
 "nbformat": 4,
 "nbformat_minor": 2
}
